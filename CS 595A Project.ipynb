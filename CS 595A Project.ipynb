{
 "cells": [
  {
   "cell_type": "code",
   "execution_count": 58,
   "id": "dd0f2448",
   "metadata": {},
   "outputs": [],
   "source": [
    "import pandas as pd\n",
    "import numpy as np\n",
    "from PIL import Image\n",
    "import matplotlib.pyplot as plt\n",
    "import matplotlib.image as img\n",
    "import os\n",
    "from sklearn.linear_model import LogisticRegression\n",
    "from sklearn.model_selection import train_test_split\n",
    "from sklearn.preprocessing import StandardScaler\n",
    "from sklearn.preprocessing import MinMaxScaler\n",
    "from sklearn.metrics import accuracy_score"
   ]
  },
  {
   "cell_type": "code",
   "execution_count": 59,
   "id": "476bc7a1",
   "metadata": {},
   "outputs": [],
   "source": [
    "#Function to:\n",
    "# 1. Reduce the Resolution of Image from 1200 x 900 to 64 x 48\n",
    "# 2. Convert the Image from colored to Black & White (Removing the Third Dimension of the Image)\n",
    "# 3. Saving the new Images in a separate folder which can be accessed independently later on &\n",
    "# 4. Saving the reduced quality images in a single variable for easier Analysis\n",
    "\n",
    "def modify_image(folder):\n",
    "    images = []\n",
    "    new_folder = r\"C:/Users/rhainej.williams/Downloads/Final Project Files/Images_new\" #This is the file path for the new images to be stored\n",
    "    \n",
    "    for filename in os.listdir(folder):\n",
    "        image = Image.open(os.path.join(folder,filename))  #Opening the images from the original folder\n",
    "        new_image = image.convert(\"L\")                     #Converting from Color to B&W Images\n",
    "        neww_image = new_image.resize((45, 34))            #Reducing the Resolution of Image from 1200 x 900 to 64 x 48\n",
    "        neww_image.save(os.path.join(new_folder,filename)) #Saving the edited images in the new folder\n",
    "        if img is not None:\n",
    "            images.append(neww_image)                      #Placing the new images in the variable for analysis\n",
    "    return images\n"
   ]
  },
  {
   "cell_type": "code",
   "execution_count": 62,
   "id": "1e8a89fa",
   "metadata": {},
   "outputs": [
    {
     "ename": "FileNotFoundError",
     "evalue": "[Errno 2] No such file or directory: '/Users/Downloads/Final Project Files/Capital Letters'",
     "output_type": "error",
     "traceback": [
      "\u001b[0;31m---------------------------------------------------------------------------\u001b[0m",
      "\u001b[0;31mFileNotFoundError\u001b[0m                         Traceback (most recent call last)",
      "Input \u001b[0;32mIn [62]\u001b[0m, in \u001b[0;36m<cell line: 1>\u001b[0;34m()\u001b[0m\n\u001b[0;32m----> 1\u001b[0m pictures \u001b[38;5;241m=\u001b[39m modify_image(\u001b[43mos\u001b[49m\u001b[38;5;241;43m.\u001b[39;49m\u001b[43mchdir\u001b[49m\u001b[43m(\u001b[49m\u001b[38;5;124;43m\"\u001b[39;49m\u001b[38;5;124;43m/Users/Downloads/Final Project Files/Capital Letters\u001b[39;49m\u001b[38;5;124;43m\"\u001b[39;49m\u001b[43m)\u001b[49m)\n",
      "\u001b[0;31mFileNotFoundError\u001b[0m: [Errno 2] No such file or directory: '/Users/Downloads/Final Project Files/Capital Letters'"
     ]
    }
   ],
   "source": [
    "pictures = modify_image(os.chdir(\"/Users/Downloads/Final Project Files/Capital Letters\")) #Calling the above function and saving the new images "
   ]
  },
  {
   "cell_type": "code",
   "execution_count": 63,
   "id": "2667af06",
   "metadata": {},
   "outputs": [
    {
     "ename": "FileNotFoundError",
     "evalue": "[Errno 2] No such file or directory: '/Downloads/Final Project Files/Capital Letters'",
     "output_type": "error",
     "traceback": [
      "\u001b[0;31m---------------------------------------------------------------------------\u001b[0m",
      "\u001b[0;31mFileNotFoundError\u001b[0m                         Traceback (most recent call last)",
      "Input \u001b[0;32mIn [63]\u001b[0m, in \u001b[0;36m<cell line: 1>\u001b[0;34m()\u001b[0m\n\u001b[0;32m----> 1\u001b[0m \u001b[43mos\u001b[49m\u001b[38;5;241;43m.\u001b[39;49m\u001b[43mchdir\u001b[49m\u001b[43m(\u001b[49m\u001b[38;5;124;43m\"\u001b[39;49m\u001b[38;5;124;43m/Downloads/Final Project Files/Capital Letters\u001b[39;49m\u001b[38;5;124;43m\"\u001b[39;49m\u001b[43m)\u001b[49m\n\u001b[1;32m      3\u001b[0m \u001b[38;5;28;01mwith\u001b[39;00m \u001b[38;5;28mopen\u001b[39m(\u001b[38;5;124m\"\u001b[39m\u001b[38;5;124mamaranth-stirfry.txt\u001b[39m\u001b[38;5;124m\"\u001b[39m,\u001b[38;5;124m\"\u001b[39m\u001b[38;5;124mr\u001b[39m\u001b[38;5;124m\"\u001b[39m) \u001b[38;5;28;01mas\u001b[39;00m txtfile: \u001b[38;5;66;03m#\"r\" indicates that we are reading the textfile and not writing to it\u001b[39;00m\n\u001b[1;32m      4\u001b[0m     recipe\u001b[38;5;241m=\u001b[39mtxtfile\u001b[38;5;241m.\u001b[39mread() \u001b[38;5;66;03m#.read() retrieves raw text information from the file we opened\u001b[39;00m\n",
      "\u001b[0;31mFileNotFoundError\u001b[0m: [Errno 2] No such file or directory: '/Downloads/Final Project Files/Capital Letters'"
     ]
    }
   ],
   "source": [
    "os.chdir(\"/Downloads/Final Project Files/Capital Letters\")\n",
    "\n",
    "with open(\"amaranth-stirfry.txt\",\"r\") as txtfile: #\"r\" indicates that we are reading the textfile and not writing to it\n",
    "    recipe=txtfile.read() #.read() retrieves raw text information from the file we opened\n",
    "    \n",
    "print(recipe)"
   ]
  },
  {
   "cell_type": "code",
   "execution_count": null,
   "id": "72b3b91e",
   "metadata": {},
   "outputs": [],
   "source": [
    "len(pictures)"
   ]
  },
  {
   "cell_type": "markdown",
   "id": "9dbcfb43",
   "metadata": {},
   "source": [
    "## Preparing the Features"
   ]
  },
  {
   "cell_type": "code",
   "execution_count": null,
   "id": "364e9941",
   "metadata": {},
   "outputs": [],
   "source": [
    "#Checking the data type of the images after being uploaded with the function above\n",
    "type(pictures[0])"
   ]
  },
  {
   "cell_type": "code",
   "execution_count": null,
   "id": "30d26484",
   "metadata": {},
   "outputs": [],
   "source": [
    "#Converting the Pictures from PIL Images to Arrays for easier Data Analysis\n",
    "\n",
    "#Converting from PIL Image to List\n",
    "images1 = []\n",
    "for i in range(len(pictures)):\n",
    "    pix = np.array(pictures[i])\n",
    "    images1.append(pix)"
   ]
  },
  {
   "cell_type": "code",
   "execution_count": null,
   "id": "dbb44f22",
   "metadata": {},
   "outputs": [],
   "source": [
    "images1"
   ]
  },
  {
   "cell_type": "code",
   "execution_count": null,
   "id": "6674c156",
   "metadata": {},
   "outputs": [],
   "source": [
    "#Converting from List to Array\n",
    "image_array = np.array(images1)\n",
    "image_array"
   ]
  },
  {
   "cell_type": "code",
   "execution_count": null,
   "id": "fb1eff88",
   "metadata": {},
   "outputs": [],
   "source": [
    "len(image_array[0].flatten())"
   ]
  },
  {
   "cell_type": "code",
   "execution_count": null,
   "id": "93c78238",
   "metadata": {},
   "outputs": [],
   "source": [
    "#Creating a FLATTENED array for all samples where each column will be represented by the pixels (features) of the images \n",
    "\n",
    "#Creating List\n",
    "pixels=[]\n",
    "for j in range(len(image_array)):\n",
    "    all_pix = image_array[j].flatten()\n",
    "    pixels.append(all_pix)"
   ]
  },
  {
   "cell_type": "code",
   "execution_count": null,
   "id": "0770a670",
   "metadata": {},
   "outputs": [],
   "source": [
    "#Converting from List to Array\n",
    "final_features = np.array(pixels)\n",
    "final_features"
   ]
  },
  {
   "cell_type": "code",
   "execution_count": null,
   "id": "85dc15b6",
   "metadata": {},
   "outputs": [],
   "source": [
    "#Checking the shape of the array\n",
    "final_features.shape  "
   ]
  },
  {
   "cell_type": "markdown",
   "id": "bad11760",
   "metadata": {},
   "source": [
    "This shape implies that there are 3072 (64x48) features, and 3410 samples. "
   ]
  },
  {
   "cell_type": "markdown",
   "id": "50b0fef0",
   "metadata": {},
   "source": [
    "## Preparing the Data Labels "
   ]
  },
  {
   "cell_type": "code",
   "execution_count": null,
   "id": "95f27834",
   "metadata": {},
   "outputs": [],
   "source": [
    "data = np.array(pd.read_csv(r\"C:\\Users\\rhainej.williams\\Downloads\\Final Project Files\\capitallabels.csv\"))\n",
    "len(data)"
   ]
  },
  {
   "cell_type": "code",
   "execution_count": null,
   "id": "0151e567",
   "metadata": {},
   "outputs": [],
   "source": [
    "data_labels = data.tolist()"
   ]
  },
  {
   "cell_type": "code",
   "execution_count": null,
   "id": "80cc4222",
   "metadata": {},
   "outputs": [],
   "source": [
    "count_values=pd.Series(data_labels).value_counts()\n",
    "print(*count_values)"
   ]
  },
  {
   "cell_type": "code",
   "execution_count": null,
   "id": "5f02cf8b",
   "metadata": {},
   "outputs": [],
   "source": [
    "final_labels=data.squeeze()\n",
    "final_labels.shape"
   ]
  },
  {
   "cell_type": "markdown",
   "id": "94c6be9c",
   "metadata": {},
   "source": [
    "## Data Preprocessing"
   ]
  },
  {
   "cell_type": "code",
   "execution_count": null,
   "id": "74cfa896",
   "metadata": {},
   "outputs": [],
   "source": [
    "X_train, X_test, y_train, y_test = train_test_split(final_features, final_labels, stratify = final_labels, test_size=0.2, random_state=42)"
   ]
  },
  {
   "cell_type": "code",
   "execution_count": null,
   "id": "e8d030f4",
   "metadata": {},
   "outputs": [],
   "source": [
    "scaler = MinMaxScaler()\n",
    "X_train = scaler.fit_transform(X_train)\n",
    "X_test = scaler.fit_transform(X_test)"
   ]
  },
  {
   "cell_type": "markdown",
   "id": "fa5490d1",
   "metadata": {},
   "source": [
    "## Fitting the Logistic Regression Algorithm"
   ]
  },
  {
   "cell_type": "code",
   "execution_count": null,
   "id": "930c977b",
   "metadata": {},
   "outputs": [],
   "source": [
    "log = LogisticRegression(multi_class='multinomial',C =1e-2, max_iter=1e6, penalty='l2', class_weight = 'balanced', random_state=42).fit(X_train, y_train)"
   ]
  },
  {
   "cell_type": "markdown",
   "id": "0f22a22d",
   "metadata": {},
   "source": [
    "**Testing Accuracy**"
   ]
  },
  {
   "cell_type": "code",
   "execution_count": null,
   "id": "f6b65788",
   "metadata": {},
   "outputs": [],
   "source": [
    "logistic_predictions_test = log.predict(X_test)\n",
    "print(*logistic_predictions_test)"
   ]
  },
  {
   "cell_type": "code",
   "execution_count": null,
   "id": "587ecb35",
   "metadata": {},
   "outputs": [],
   "source": [
    "print(*y_test)"
   ]
  },
  {
   "cell_type": "code",
   "execution_count": null,
   "id": "4c770c18",
   "metadata": {},
   "outputs": [],
   "source": [
    "logistic_accuracy_test = accuracy_score(y_test, logistic_predictions_test)\n",
    "logistic_accuracy_test"
   ]
  },
  {
   "cell_type": "markdown",
   "id": "bbb50728",
   "metadata": {},
   "source": [
    "**Training Accuracy**"
   ]
  },
  {
   "cell_type": "code",
   "execution_count": null,
   "id": "da438d0e",
   "metadata": {
    "scrolled": true
   },
   "outputs": [],
   "source": [
    "logistic_predictions_train = log.predict(X_train)\n",
    "print(*logistic_predictions_train)"
   ]
  },
  {
   "cell_type": "code",
   "execution_count": null,
   "id": "b6f84647",
   "metadata": {},
   "outputs": [],
   "source": [
    "print(*y_train)"
   ]
  },
  {
   "cell_type": "code",
   "execution_count": null,
   "id": "e258ec64",
   "metadata": {},
   "outputs": [],
   "source": [
    "logistic_accuracy_train = accuracy_score(y_train, logistic_predictions_train)\n",
    "logistic_accuracy_train"
   ]
  },
  {
   "cell_type": "markdown",
   "id": "24b22c60",
   "metadata": {},
   "source": [
    "## Fitting the Random Forest Algorithm"
   ]
  },
  {
   "cell_type": "code",
   "execution_count": null,
   "id": "053471c6",
   "metadata": {},
   "outputs": [],
   "source": [
    "from sklearn.ensemble import RandomForestClassifier\n",
    "\n",
    "random_for = RandomForestClassifier(random_state=42,criterion='gini',max_features='log2',class_weight='balanced').fit(X_train, y_train)"
   ]
  },
  {
   "cell_type": "markdown",
   "id": "3a1f79d7",
   "metadata": {},
   "source": [
    "**Testing Accuracy:**"
   ]
  },
  {
   "cell_type": "code",
   "execution_count": null,
   "id": "96d54fa9",
   "metadata": {},
   "outputs": [],
   "source": [
    "random_predictions_test = random_for.predict(X_test)\n",
    "print(*random_predictions_test)"
   ]
  },
  {
   "cell_type": "code",
   "execution_count": null,
   "id": "1f2ace39",
   "metadata": {},
   "outputs": [],
   "source": [
    "print(*y_test)"
   ]
  },
  {
   "cell_type": "code",
   "execution_count": null,
   "id": "f212f139",
   "metadata": {},
   "outputs": [],
   "source": [
    "random_accuracy_test = accuracy_score(y_test, random_predictions_test)\n",
    "random_accuracy_test"
   ]
  },
  {
   "cell_type": "markdown",
   "id": "5564d5c5",
   "metadata": {},
   "source": [
    "**Training Accuracy:**"
   ]
  },
  {
   "cell_type": "code",
   "execution_count": null,
   "id": "a5b4ab94",
   "metadata": {},
   "outputs": [],
   "source": [
    "random_predictions_train = random_for.predict(X_train)\n",
    "print(*random_predictions_train)"
   ]
  },
  {
   "cell_type": "code",
   "execution_count": null,
   "id": "7de9e554",
   "metadata": {},
   "outputs": [],
   "source": [
    "print(*y_train)"
   ]
  },
  {
   "cell_type": "code",
   "execution_count": null,
   "id": "d2ea60be",
   "metadata": {},
   "outputs": [],
   "source": [
    "random_accuracy_train = accuracy_score(y_train, random_predictions_train)\n",
    "random_accuracy_train"
   ]
  },
  {
   "cell_type": "markdown",
   "id": "8db4c803",
   "metadata": {},
   "source": [
    "## Fitting the KNN Algorithm"
   ]
  },
  {
   "cell_type": "code",
   "execution_count": null,
   "id": "6b78291a",
   "metadata": {},
   "outputs": [],
   "source": [
    "from sklearn.neighbors import KNeighborsClassifier\n",
    "\n",
    "KNN = KNeighborsClassifier().fit(X_train, y_train)"
   ]
  },
  {
   "cell_type": "markdown",
   "id": "6dfaf560",
   "metadata": {},
   "source": [
    "**Testing Accuracy:**"
   ]
  },
  {
   "cell_type": "code",
   "execution_count": null,
   "id": "df1c1b2f",
   "metadata": {},
   "outputs": [],
   "source": [
    "KNN_predictions_test = KNN.predict(X_test)\n",
    "print(*KNN_predictions_test)"
   ]
  },
  {
   "cell_type": "code",
   "execution_count": null,
   "id": "4ba6e08e",
   "metadata": {},
   "outputs": [],
   "source": [
    "KNN_accuracy_test = accuracy_score(y_test, KNN_predictions_test)\n",
    "KNN_accuracy_test"
   ]
  },
  {
   "cell_type": "markdown",
   "id": "53131ffc",
   "metadata": {},
   "source": [
    "**Training Accuracy:**"
   ]
  },
  {
   "cell_type": "code",
   "execution_count": null,
   "id": "8ef07c41",
   "metadata": {},
   "outputs": [],
   "source": [
    "KNN_predictions_train = KNN.predict(X_train)\n",
    "print(*KNN_predictions_train)"
   ]
  },
  {
   "cell_type": "code",
   "execution_count": null,
   "id": "6ec01056",
   "metadata": {},
   "outputs": [],
   "source": [
    "KNN_accuracy_train = accuracy_score(y_train, KNN_predictions_train)\n",
    "KNN_accuracy_train"
   ]
  },
  {
   "cell_type": "markdown",
   "id": "db638aaa",
   "metadata": {},
   "source": [
    "### Logistic Regression Optimization:"
   ]
  },
  {
   "cell_type": "code",
   "execution_count": null,
   "id": "8dfc6321",
   "metadata": {},
   "outputs": [],
   "source": [
    "from sklearn.model_selection import GridSearchCV"
   ]
  },
  {
   "cell_type": "code",
   "execution_count": null,
   "id": "cf6bf436",
   "metadata": {},
   "outputs": [],
   "source": [
    "param_grid = [{'penalty':['l1','l2','None','elasticnet'],'C':[1 50 100],'solver':[‘lbfgs’, ‘liblinear’, ‘newton-cg’, ‘newton-cholesky’, ‘sag’, ‘saga’],\n",
    "              'max_iter':[750],'multi_class':'multinomial','tol':[1e-4]}]"
   ]
  },
  {
   "cell_type": "code",
   "execution_count": null,
   "id": "eb9b921b",
   "metadata": {},
   "outputs": [],
   "source": [
    "log_opt = LogisticRegression(n_jobs = -1, random_state =42)"
   ]
  },
  {
   "cell_type": "code",
   "execution_count": null,
   "id": "6736f8f1",
   "metadata": {},
   "outputs": [],
   "source": [
    "log_GridSearchCV = GridSearchCV(log_opt, param_grid, scoring = 'accuracy')\n",
    "log_GridSearchCV.fit(X_train,y_train)"
   ]
  },
  {
   "cell_type": "code",
   "execution_count": null,
   "id": "9408a0ce",
   "metadata": {},
   "outputs": [],
   "source": [
    "log_opt_pred = log_GridSearchCV.predict(X_test)\n",
    "log_opt_pred"
   ]
  },
  {
   "cell_type": "code",
   "execution_count": null,
   "id": "052ba83d",
   "metadata": {},
   "outputs": [],
   "source": [
    "accuracy_score(y_test,log_opt_pred)"
   ]
  },
  {
   "cell_type": "code",
   "execution_count": null,
   "id": "962100b0",
   "metadata": {},
   "outputs": [],
   "source": []
  }
 ],
 "metadata": {
  "kernelspec": {
   "display_name": "Python 3 (ipykernel)",
   "language": "python",
   "name": "python3"
  },
  "language_info": {
   "codemirror_mode": {
    "name": "ipython",
    "version": 3
   },
   "file_extension": ".py",
   "mimetype": "text/x-python",
   "name": "python",
   "nbconvert_exporter": "python",
   "pygments_lexer": "ipython3",
   "version": "3.9.12"
  }
 },
 "nbformat": 4,
 "nbformat_minor": 5
}
